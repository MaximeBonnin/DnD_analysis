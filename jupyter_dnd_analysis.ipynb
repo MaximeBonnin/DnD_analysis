{
 "cells": [
  {
   "cell_type": "code",
   "execution_count": 51,
   "metadata": {},
   "outputs": [
    {
     "name": "stderr",
     "output_type": "stream",
     "text": [
      "Matplotlib is building the font cache; this may take a moment.\n"
     ]
    }
   ],
   "source": [
    "\n",
    "import requests\n",
    "import json\n",
    "from pprint import pprint\n",
    "import pandas as pd\n",
    "import numpy as np\n",
    "import matplotlib.pyplot as plt"
   ]
  },
  {
   "cell_type": "code",
   "execution_count": 3,
   "metadata": {},
   "outputs": [],
   "source": [
    "\n",
    "# Download the json from https://github.com/oganm/dnddata\n",
    "\n",
    "url = \"https://raw.githubusercontent.com/oganm/dnddata/master/data-raw/dnd_chars_unique.json\"\n",
    "\n",
    "with requests.get(url) as content:\n",
    "    json_data = content.text\n",
    "\n",
    "data = json.loads(json_data)\n",
    "\n",
    "# Save the json file locally\n",
    "\n",
    "with open(\"json_data.json\", \"w\") as f:\n",
    "    f.writelines(json.dumps(data, indent=2))"
   ]
  },
  {
   "cell_type": "code",
   "execution_count": 6,
   "metadata": {},
   "outputs": [],
   "source": [
    "# open local json file\n",
    "\n",
    "with open(\"json_data.json\", \"r\") as f:\n",
    "    data = json.load(f)"
   ]
  },
  {
   "cell_type": "code",
   "execution_count": 47,
   "metadata": {},
   "outputs": [],
   "source": [
    "# make a Data Frame\n",
    "data_dict = {\n",
    "    \"Name\": [],\n",
    "    \"Race\": [],\n",
    "    \"Class\": [],\n",
    "    \"Total_lvl\": [],\n",
    "    \"Alignment\": [],\n",
    "    \"Skills\": []\n",
    "}\n",
    "\n",
    "for char in data:\n",
    "    char_name = data[char][\"name\"][\"alias\"][0]\n",
    "    data_dict[\"Name\"].append(char_name)\n",
    "\n",
    "    char_race = data[char][\"race\"][\"processedRace\"][0]\n",
    "    data_dict[\"Race\"].append(char_race)\n",
    "\n",
    "    # this could be done better\n",
    "    class_str = \"\"\n",
    "    for cls in data[char][\"class\"]:\n",
    "        if class_str != \"\":\n",
    "            class_str = class_str + \", \"\n",
    "        this_class = data[char][\"class\"][cls][\"class\"][0]\n",
    "        subclass = data[char][\"class\"][cls][\"subclass\"][0]\n",
    "        if subclass == \"\":\n",
    "            subclass = \"No Sub\"\n",
    "        class_lvl = data[char][\"class\"][cls][\"level\"][0]\n",
    "        this_class_str = f\"[{this_class}, {subclass}, {class_lvl}]\"\n",
    "        class_str = class_str + this_class_str\n",
    "    data_dict[\"Class\"].append(class_str)\n",
    "\n",
    "    total_lvl = data[char][\"level\"][0]\n",
    "    data_dict[\"Total_lvl\"].append(total_lvl)\n",
    "    \n",
    "    if data[char][\"alignment\"][\"processedAlignment\"][0]:\n",
    "        alignment = data[char][\"alignment\"][\"processedAlignment\"][0]\n",
    "    else:\n",
    "        alignment = None\n",
    "    data_dict[\"Alignment\"].append(alignment)\n",
    "\n",
    "    skill_str = \"\"\n",
    "    for skill in data[char][\"skills\"]:\n",
    "        if skill_str != \"\":\n",
    "            skill_str = skill_str + \", \"\n",
    "        skill_str = skill_str + skill\n",
    "    data_dict[\"Skills\"].append(skill_str)\n",
    "\n",
    "\n",
    "df = pd.DataFrame(data=data_dict)"
   ]
  },
  {
   "cell_type": "code",
   "execution_count": null,
   "metadata": {},
   "outputs": [],
   "source": []
  }
 ],
 "metadata": {
  "interpreter": {
   "hash": "b4b965e543113fef6e9316f4ed2c80afc8f7c2da2295b5640ae0e8acdae3461b"
  },
  "kernelspec": {
   "display_name": "Python 3.9.0 64-bit (system)",
   "language": "python",
   "name": "python3"
  },
  "language_info": {
   "codemirror_mode": {
    "name": "ipython",
    "version": 3
   },
   "file_extension": ".py",
   "mimetype": "text/x-python",
   "name": "python",
   "nbconvert_exporter": "python",
   "pygments_lexer": "ipython3",
   "version": "3.9.0"
  },
  "orig_nbformat": 4
 },
 "nbformat": 4,
 "nbformat_minor": 2
}
