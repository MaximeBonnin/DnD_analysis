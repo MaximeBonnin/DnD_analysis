{
 "cells": [
  {
   "cell_type": "markdown",
   "metadata": {},
   "source": [
    "# Dungeons and Dragons Dataset Analysis"
   ]
  },
  {
   "cell_type": "markdown",
   "metadata": {},
   "source": [
    "## Setting up "
   ]
  },
  {
   "cell_type": "markdown",
   "metadata": {},
   "source": [
    "Here we want to set up all the packages we want to work with."
   ]
  },
  {
   "cell_type": "code",
   "execution_count": 2,
   "metadata": {},
   "outputs": [],
   "source": [
    "import requests\n",
    "import json\n",
    "import pandas as pd"
   ]
  },
  {
   "cell_type": "markdown",
   "metadata": {},
   "source": [
    "## Now to get the data.\n",
    "We are using a dataset provided as a json from https://github.com/oganm/dnddata\n",
    "\n",
    "Since the dataset is quite large (more than 7000 unique characters as of february 2022) we will first download it and save it locally. This way, we don't have to download the data again every time we run an analysis unless we want to update the data."
   ]
  },
  {
   "cell_type": "code",
   "execution_count": 2,
   "metadata": {},
   "outputs": [],
   "source": [
    "\n",
    "# Download the json from https://github.com/oganm/dnddata\n",
    "\n",
    "url = \"https://raw.githubusercontent.com/oganm/dnddata/master/data-raw/dnd_chars_unique.json\"\n",
    "\n",
    "with requests.get(url) as content:\n",
    "    json_data = content.text\n",
    "\n",
    "data = json.loads(json_data)\n",
    "\n",
    "# Save the json file locally\n",
    "\n",
    "with open(\"json_data.json\", \"w\") as f:\n",
    "    f.writelines(json.dumps(data, indent=2))"
   ]
  },
  {
   "cell_type": "markdown",
   "metadata": {},
   "source": [
    "Next, we load the .json file we just downloaded."
   ]
  },
  {
   "cell_type": "code",
   "execution_count": 3,
   "metadata": {},
   "outputs": [],
   "source": [
    "# open local json file\n",
    "\n",
    "with open(\"json_data.json\", \"r\") as f:\n",
    "    data = json.load(f)"
   ]
  },
  {
   "cell_type": "markdown",
   "metadata": {},
   "source": [
    "The next step is to go through the .json file and create a table from the data. Here we select which attributes are interesting and which ones we want to leave out.\n",
    "\n",
    "Finally, we create a dataframe from the data.\n",
    "\n",
    "At this point, we could continue the analysis using python if we want."
   ]
  },
  {
   "cell_type": "code",
   "execution_count": 16,
   "metadata": {},
   "outputs": [
    {
     "name": "stdout",
     "output_type": "stream",
     "text": [
      "<bound method NDFrame.head of                        Name     Race    Class_1                 Subclass_1  \\\n",
      "0               stoic_chaum   Tabaxi     Cleric               Light Domain   \n",
      "1              goofy_jepsen    Human    Fighter                    Samurai   \n",
      "2          frosty_matsumoto           Barbarian  Path of the Totem Warrior   \n",
      "3          inspiring_austin    Human       Monk  Way of the Drunken Master   \n",
      "4              keen_galileo  Aasimar    Warlock                  The Fiend   \n",
      "...                     ...      ...        ...                        ...   \n",
      "7105       eloquent_germain   Genasi      Rogue                              \n",
      "7106        vibrant_maxwell    Kenku       Bard                              \n",
      "7107            angry_gould    Human      Rogue                              \n",
      "7108  trusting_visvesvaraya    Human    Fighter                              \n",
      "7109       infallible_yalow    Dwarf    Fighter                              \n",
      "\n",
      "      Class_level_1    Class_2    Subclass_2  Class_level_2  Num_of_classes  \\\n",
      "0                20       None          None            NaN               1   \n",
      "1                20       None          None            NaN               1   \n",
      "2                20       None          None            NaN               1   \n",
      "3                20       None          None            NaN               1   \n",
      "4                20       None          None            NaN               1   \n",
      "...             ...        ...           ...            ...             ...   \n",
      "7105              1    Warlock   The Undying            1.0               2   \n",
      "7106              1   Sorcerer  Shadow Magic            1.0               2   \n",
      "7107              1     Ranger                          1.0               2   \n",
      "7108              1      Rogue                          1.0               2   \n",
      "7109              1  Barbarian                          1.0               2   \n",
      "\n",
      "      Total_lvl  ...   HP  AC Str  Dex  Con  Int  Wis  Cha  Spellcaster  \\\n",
      "0            20  ...  208  19  13   18   16   14   20   16         True   \n",
      "1            20  ...  174  16  20   17   20    8   10    8        False   \n",
      "2            20  ...  450  26  25   16   26    8    8    8        False   \n",
      "3            20  ...  181  20  15   20   18    9   20   11        False   \n",
      "4            20  ...  145  12  10   12   10   14   18   20        False   \n",
      "...         ...  ...  ...  ..  ..  ...  ...  ...  ...  ...          ...   \n",
      "7105          2  ...   19  14   8   16   16   14    8   13         True   \n",
      "7106          2  ...   14  14  10   17   12    8   14   14         True   \n",
      "7107          2  ...   18  14   9   16   15   11   13   14        False   \n",
      "7108          2  ...   15  16  12   13   10   11   11   17        False   \n",
      "7109          2  ...   23  16  16   10   16   10   10   14        False   \n",
      "\n",
      "      Num_of_spells  \n",
      "0                38  \n",
      "1                 0  \n",
      "2                 0  \n",
      "3                 0  \n",
      "4                 0  \n",
      "...             ...  \n",
      "7105              5  \n",
      "7106              8  \n",
      "7107              0  \n",
      "7108              0  \n",
      "7109              0  \n",
      "\n",
      "[7110 rows x 23 columns]>\n"
     ]
    }
   ],
   "source": [
    "# make a Data Frame\n",
    "data_dict = {\n",
    "    \"Name\": [],\n",
    "    \"Race\": [],\n",
    "    \"Class_1\": [],\n",
    "    \"Subclass_1\": [],\n",
    "    \"Class_level_1\": [],\n",
    "    \"Class_2\": [],\n",
    "    \"Subclass_2\": [],\n",
    "    \"Class_level_2\": [],\n",
    "    \"Num_of_classes\": [],\n",
    "    \"Total_lvl\": [],\n",
    "    \"Alignment\": [],\n",
    "    \"Skills\": [],\n",
    "    \"Feats\": [],\n",
    "    \"HP\": [],\n",
    "    \"AC\": [],\n",
    "    \"Str\": [], \"Dex\": [], \"Con\": [], \"Int\": [], \"Wis\": [], \"Cha\": [],\n",
    "    \"Spellcaster\": [],\n",
    "    \"Num_of_spells\": []\n",
    "}\n",
    "\n",
    "# loop through the characters in the json and pick out the attributes for analysis\n",
    "for char in data:\n",
    "    # name\n",
    "    char_name = data[char][\"name\"][\"alias\"][0]\n",
    "    data_dict[\"Name\"].append(char_name)\n",
    "\n",
    "    #race\n",
    "    char_race = data[char][\"race\"][\"processedRace\"][0]\n",
    "    data_dict[\"Race\"].append(char_race)\n",
    "\n",
    "    # classes\n",
    "    main_class = list(data[char][\"class\"])[0]\n",
    "    class1 = data[char][\"class\"][main_class][\"class\"][0]\n",
    "    subclass1 = data[char][\"class\"][main_class][\"subclass\"][0]\n",
    "    class_lvl1 = data[char][\"class\"][main_class][\"level\"][0]\n",
    "    data_dict[\"Class_1\"].append(class1)\n",
    "    data_dict[\"Subclass_1\"].append(subclass1)\n",
    "    data_dict[\"Class_level_1\"].append(class_lvl1)\n",
    "\n",
    "    if len(data[char][\"class\"]) > 1:\n",
    "        second_class = list(data[char][\"class\"])[1]\n",
    "        class2 = data[char][\"class\"][second_class][\"class\"][0]\n",
    "        subclass2 = data[char][\"class\"][second_class][\"subclass\"][0]\n",
    "        class_lvl2 = data[char][\"class\"][second_class][\"level\"][0]\n",
    "    else:\n",
    "        class2 = None\n",
    "        subclass2 = None\n",
    "        class_lvl2 = None\n",
    "\n",
    "    data_dict[\"Class_2\"].append(class2)\n",
    "    data_dict[\"Subclass_2\"].append(subclass2)\n",
    "    data_dict[\"Class_level_2\"].append(class_lvl2)\n",
    "        \n",
    "    # number of classes\n",
    "    data_dict[\"Num_of_classes\"].append(len(data[char][\"class\"]))\n",
    "\n",
    "    # character level\n",
    "    total_lvl = data[char][\"level\"][0]\n",
    "    data_dict[\"Total_lvl\"].append(total_lvl)\n",
    "    \n",
    "    # alignment\n",
    "    if data[char][\"alignment\"][\"processedAlignment\"][0]:\n",
    "        alignment = data[char][\"alignment\"][\"processedAlignment\"][0]\n",
    "    else:\n",
    "        alignment = None\n",
    "    data_dict[\"Alignment\"].append(alignment)\n",
    "\n",
    "    # skills / proficiencies\n",
    "    skill_str = \"\"\n",
    "    for skill in data[char][\"skills\"]:\n",
    "        if skill_str != \"\":\n",
    "            skill_str = skill_str + \"; \"\n",
    "        skill_str = skill_str + skill\n",
    "    data_dict[\"Skills\"].append(skill_str)\n",
    "\n",
    "    # feats\n",
    "    feat_str = \"\"\n",
    "    for feat in data[char][\"feats\"]:\n",
    "        if feat_str != \"\":\n",
    "            feat_str = feat_str + \"; \"\n",
    "        feat_str = feat_str + feat\n",
    "    data_dict[\"Feats\"].append(feat_str)\n",
    "\n",
    "    # HP \n",
    "    hp = data[char][\"HP\"][0]\n",
    "    data_dict[\"HP\"].append(hp)\n",
    "\n",
    "    # AC\n",
    "    ac = data[char][\"AC\"][0]\n",
    "    data_dict[\"AC\"].append(ac)\n",
    "\n",
    "    # attributes\n",
    "    for atr in [\"Str\", \"Dex\", \"Con\", \"Int\", \"Wis\", \"Cha\"]:\n",
    "        val = data[char][\"attributes\"][atr][0]\n",
    "        data_dict[atr].append(val)\n",
    "\n",
    "    # spellcaster\n",
    "    if data[char][\"spells\"]:\n",
    "        data_dict[\"Spellcaster\"].append(True)\n",
    "    else:\n",
    "        data_dict[\"Spellcaster\"].append(False)\n",
    "\n",
    "    # number of spells\n",
    "    data_dict[\"Num_of_spells\"].append(len(data[char][\"spells\"]))\n",
    "\n",
    "\n",
    "df = pd.DataFrame(data=data_dict)\n",
    "print(df.head)"
   ]
  },
  {
   "cell_type": "markdown",
   "metadata": {},
   "source": [
    "Now we can export the data frame we created as a .csv to use for further analysis using other tools."
   ]
  },
  {
   "cell_type": "code",
   "execution_count": 17,
   "metadata": {},
   "outputs": [],
   "source": [
    "df.to_csv(\"dnd_data.csv\")"
   ]
  },
  {
   "cell_type": "code",
   "execution_count": null,
   "metadata": {},
   "outputs": [],
   "source": []
  }
 ],
 "metadata": {
  "interpreter": {
   "hash": "b4b965e543113fef6e9316f4ed2c80afc8f7c2da2295b5640ae0e8acdae3461b"
  },
  "kernelspec": {
   "display_name": "Python 3.9.0 64-bit (system)",
   "language": "python",
   "name": "python3"
  },
  "language_info": {
   "codemirror_mode": {
    "name": "ipython",
    "version": 3
   },
   "file_extension": ".py",
   "mimetype": "text/x-python",
   "name": "python",
   "nbconvert_exporter": "python",
   "pygments_lexer": "ipython3",
   "version": "3.9.0"
  },
  "orig_nbformat": 4
 },
 "nbformat": 4,
 "nbformat_minor": 2
}
